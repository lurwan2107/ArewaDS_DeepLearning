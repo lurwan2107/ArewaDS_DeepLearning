{
  "nbformat": 4,
  "nbformat_minor": 0,
  "metadata": {
    "colab": {
      "provenance": [],
      "authorship_tag": "ABX9TyMA1SBulEa7bSrregA0Dvk2",
      "include_colab_link": true
    },
    "kernelspec": {
      "name": "python3",
      "display_name": "Python 3"
    },
    "language_info": {
      "name": "python"
    }
  },
  "cells": [
    {
      "cell_type": "markdown",
      "metadata": {
        "id": "view-in-github",
        "colab_type": "text"
      },
      "source": [
        "<a href=\"https://colab.research.google.com/github/lurwan2107/ArewaDS_DeepLearning/blob/main/01_PyTorch_workflow_Exercise.ipynb\" target=\"_parent\"><img src=\"https://colab.research.google.com/assets/colab-badge.svg\" alt=\"Open In Colab\"/></a>"
      ]
    },
    {
      "cell_type": "markdown",
      "source": [
        "# Assignment Notebook:\n",
        "----------------------\n",
        "This template contains solutions of two exercises which I named `Exercise level 1` and `Exercise level 2`.\n"
      ],
      "metadata": {
        "id": "iB2uK5bXoxcQ"
      }
    },
    {
      "cell_type": "markdown",
      "source": [
        "## Exercise Level 1\n",
        "Exercise level 1 is the Basic PyTorch workflow that has five questions in total.\n"
      ],
      "metadata": {
        "id": "_CGXm7x8rJ3y"
      }
    },
    {
      "cell_type": "code",
      "execution_count": 2,
      "metadata": {
        "id": "HYXaD7iKpycO"
      },
      "outputs": [],
      "source": [
        "# Importing required packages\n",
        "import torch\n",
        "from torch import nn\n",
        "import matplotlib.pyplot as plt"
      ]
    },
    {
      "cell_type": "code",
      "source": [
        "# Setting device agonistic (checking if we have GPU)\n",
        "device = 'cuda' if torch.cuda.is_available() else 'cpu'\n",
        "device"
      ],
      "metadata": {
        "id": "c3w_eEt8JmGp",
        "colab": {
          "base_uri": "https://localhost:8080/",
          "height": 35
        },
        "outputId": "f36937c7-b870-4e1a-e469-eb7a4ef97a94"
      },
      "execution_count": 3,
      "outputs": [
        {
          "output_type": "execute_result",
          "data": {
            "text/plain": [
              "'cuda'"
            ],
            "application/vnd.google.colaboratory.intrinsic+json": {
              "type": "string"
            }
          },
          "metadata": {},
          "execution_count": 3
        }
      ]
    },
    {
      "cell_type": "markdown",
      "source": [
        "### Q1. Create a straight line dataset using the linear regression formula (`weight * X + bias`).\n",
        "- Set `weight=0.3` and `bias=0.9` there should be at least 100 datapoints total.\n",
        "\n"
      ],
      "metadata": {
        "id": "AwkWyDVhtLjU"
      }
    },
    {
      "cell_type": "code",
      "source": [
        "# Setting the weight=0.3 and bias=0.9 respectively\n",
        "w = 0.3\n",
        "b = 0.9\n",
        "\n",
        "# Creating a data that will give us a total of 100 datapoints\n",
        "start = 0\n",
        "end = 1\n",
        "step = 0.01\n",
        "\n",
        "# Making input feature (X) and it's corresponding output target (Y) using linear regression\n",
        "x = torch.arange(start, end, step).unsqueeze(dim=1) # feature X\n",
        "y = w * x + b # target Y\n",
        "\n",
        "# Printing the result to make sure we have 100 datapoints as requested\n",
        "print(f\"The number of (X) samples is: {len(x)}\")\n",
        "print(f\"The number of (Y) samples is: {len(y)}\")\n",
        "print(f\"The first [10] samples of X and Y is:\\n\\nX: {x[:10]}\\nY: {y[:10]}\")"
      ],
      "metadata": {
        "colab": {
          "base_uri": "https://localhost:8080/"
        },
        "id": "O8LlnDLsONFy",
        "outputId": "e78d2c97-49c9-42ca-9d77-848395e0b111"
      },
      "execution_count": null,
      "outputs": [
        {
          "output_type": "stream",
          "name": "stdout",
          "text": [
            "The number of (X) samples is: 100\n",
            "The number of (Y) samples is: 100\n",
            "The first [10] samples of X and Y is:\n",
            "\n",
            "X: tensor([[0.0000],\n",
            "        [0.0100],\n",
            "        [0.0200],\n",
            "        [0.0300],\n",
            "        [0.0400],\n",
            "        [0.0500],\n",
            "        [0.0600],\n",
            "        [0.0700],\n",
            "        [0.0800],\n",
            "        [0.0900]])\n",
            "Y: tensor([[0.9000],\n",
            "        [0.9030],\n",
            "        [0.9060],\n",
            "        [0.9090],\n",
            "        [0.9120],\n",
            "        [0.9150],\n",
            "        [0.9180],\n",
            "        [0.9210],\n",
            "        [0.9240],\n",
            "        [0.9270]])\n"
          ]
        }
      ]
    },
    {
      "cell_type": "markdown",
      "source": [
        "- Split the data into 80% training, 20% testing."
      ],
      "metadata": {
        "id": "OI4DWuVAvaFN"
      }
    },
    {
      "cell_type": "code",
      "source": [
        "# Calculating the parcentage\n",
        "data_split = int(0.8 * len(x))\n",
        "\n",
        "# Taking the 8% of the data\n",
        "x_train = x[:data_split]\n",
        "y_train = x[:data_split]\n",
        "\n",
        "# Taking the 20% of the data\n",
        "x_test = x[data_split:]\n",
        "y_test = x[data_split:]\n",
        "\n",
        "# Making sure we take the correct parcentage\n",
        "print(f\"The parcentage of Training Data is: {len(x_train)}%\\nThe parcentage of Training Label is: {len(y_train)}%\\n\")\n",
        "print(f\"The parcentage of Testing Data is : {len(x_test)}%\\nThe parcentage of Testing Labels is {len(y_test)}%\")"
      ],
      "metadata": {
        "colab": {
          "base_uri": "https://localhost:8080/"
        },
        "id": "_nmsTn6VQR7A",
        "outputId": "18b1333b-6be4-4fef-ffc7-a1837dda1dff"
      },
      "execution_count": null,
      "outputs": [
        {
          "output_type": "stream",
          "name": "stdout",
          "text": [
            "The parcentage of Training Data is: 80%\n",
            "The parcentage of Training Label is: 80%\n",
            "\n",
            "The parcentage of Testing Data is : 20%\n",
            "The parcentage of Testing Labels is 20%\n"
          ]
        }
      ]
    },
    {
      "cell_type": "markdown",
      "source": [
        "- Plot the training and testing data so it becomes visual."
      ],
      "metadata": {
        "id": "JNfa7WEXw5Cc"
      }
    },
    {
      "cell_type": "code",
      "source": [
        "# Creating a function to give us a visual view of our data\n",
        "def plot_predictions(train_data=x_train,\n",
        "                     train_labels=y_train,\n",
        "                     test_data=x_test,\n",
        "                     test_labels=y_test,\n",
        "                     predictions=None):\n",
        "  # Setting the figure size\n",
        "  plt.figure(figsize=(8, 6))\n",
        "\n",
        "  # Ploting training data and it's corresponding labels in blue color\n",
        "  plt.scatter(train_data, train_labels, c='b', s=4, label='Trainin data')\n",
        "\n",
        "  # Ploting testing data and it's corresponding labels in green color\n",
        "  plt.scatter(test_data, test_labels, c='g', s=4, label='Testing data')\n",
        "\n",
        "  # Making a branching that will give us a red visualization of our data after prediction\n",
        "  if predictions is not None:\n",
        "    plt.scatter(test_data, predictions, c='r', s=4, label='Predictions')\n",
        "\n",
        "  plt.legend(prop={'size': 14})\n",
        "\n",
        "plot_predictions()"
      ],
      "metadata": {
        "id": "XfD9WqgVUEqB",
        "colab": {
          "base_uri": "https://localhost:8080/",
          "height": 522
        },
        "outputId": "fd659bb6-34b9-4c5c-e53a-123d2bdd0430"
      },
      "execution_count": null,
      "outputs": [
        {
          "output_type": "display_data",
          "data": {
            "text/plain": [
              "<Figure size 800x600 with 1 Axes>"
            ],
            "image/png": "[encoded data removed]"
          },
          "metadata": {}
        }
      ]
    },
    {
      "cell_type": "markdown",
      "source": [
        "## 2. Building a PyTorch Model by Subclassing `nn.Module`\n",
        "- Inside should be a randomly initialized `nn.Parameter()` with `requires_grad=True`, one for `weights` and one for `bias`."
      ],
      "metadata": {
        "id": "8WiOWdl2k_5Y"
      }
    },
    {
      "cell_type": "code",
      "source": [
        "# Creating a linear regression model by subclassing nn.Module\n",
        "class LinearRegressionModel(nn.Module):\n",
        "  def __init__(self):\n",
        "    super().__init__()\n",
        "\n",
        "    # Randomly initializing a weight parameter\n",
        "    self.w = nn.Parameter(torch.randn(1, dtype=torch.float), requires_grad=True)\n",
        "\n",
        "    # Randomly initializing a bias parameter\n",
        "    self.b = nn.Parameter(torch.randn(1, dtype=torch.float), requires_grad=True)\n",
        "\n",
        "  # Implementing the forward method to compute the linear regression in the model\n",
        "  def forward(self, x: torch.Tensor) -> torch.Tensor:\n",
        "    return self.w * x + self.b"
      ],
      "metadata": {
        "id": "NLUxxXiPjzxD"
      },
      "execution_count": null,
      "outputs": []
    },
    {
      "cell_type": "markdown",
      "source": [
        "- Once you've constructed the model, make an instance of it and check its `state_dict()`."
      ],
      "metadata": {
        "id": "Zyh3sfEL1_2W"
      }
    },
    {
      "cell_type": "code",
      "source": [
        "# Setting the manual seed since our parameters a randomly initialized\n",
        "torch.manual_seed(42)\n",
        "\n",
        "# Making the instance of our linear regression class and at the same time moving it to GPU\n",
        "my_model_0 = LinearRegressionModel().to(device)\n",
        "\n",
        "# checking the state_dict() to list the status of the named parameters\n",
        "next(my_model_0.parameters()).device, my_model_0.state_dict()"
      ],
      "metadata": {
        "colab": {
          "base_uri": "https://localhost:8080/"
        },
        "id": "wI4M3ur8o01f",
        "outputId": "93bee66b-d96d-4d83-8949-6e1a993898a9"
      },
      "execution_count": null,
      "outputs": [
        {
          "output_type": "execute_result",
          "data": {
            "text/plain": [
              "(device(type='cuda', index=0),\n",
              " OrderedDict([('w', tensor([0.3367], device='cuda:0')),\n",
              "              ('b', tensor([0.1288], device='cuda:0'))]))"
            ]
          },
          "metadata": {},
          "execution_count": 8
        }
      ]
    },
    {
      "cell_type": "markdown",
      "source": [
        "### Q3. Craete a loss function and optimizer using `nn.L1Loss()` and `torch.optim.SGD(params, lr)` respectively.\n",
        "- Set the learning rate of the optimizer to be 0.01 and the parameters to optimize should be the model parameters from the model you created in 2."
      ],
      "metadata": {
        "id": "vuUt0cONvdy1"
      }
    },
    {
      "cell_type": "code",
      "source": [
        "# Creating the loss function\n",
        "loss_fn = nn.L1Loss()\n",
        "\n",
        "# Creating the optimizer and setting the learning rate to 0.01\n",
        "optimizer = torch.optim.SGD(params=my_model_0.parameters(), lr=0.01)"
      ],
      "metadata": {
        "id": "-60MDu4BqE7B"
      },
      "execution_count": null,
      "outputs": []
    },
    {
      "cell_type": "code",
      "source": [
        "# Setting manual seed\n",
        "torch.manual_seed(42)\n",
        "\n",
        "# Setting to epoch to 300\n",
        "epochs = 300\n",
        "\n",
        "# Moving the datasets to GPU\n",
        "x_train = x_train.to(device)\n",
        "y_train = y_train.to(device)\n",
        "x_test = x_test.to(device)\n",
        "y_test = y_test.to(device)\n",
        "\n",
        "### Training loop\n",
        "# Writing a training loop to perform the appropriate training steps for 300 epochs.\n",
        "for epoch in range(epochs):\n",
        "\n",
        "  # Putting the model in training mode\n",
        "  my_model_0.train()\n",
        "\n",
        "  # 1. Forward pass on the training data\n",
        "  y_preds = my_model_0(x_train)\n",
        "\n",
        "  # 2. Calculating the loss\n",
        "  loss = loss_fn(y_preds, y_train)\n",
        "\n",
        "  # 3. Zero grad of the optimizer\n",
        "  optimizer.zero_grad()\n",
        "\n",
        "  # 4. Loss backward\n",
        "  loss.backward()\n",
        "\n",
        "  # 5. Stepping the optimizer\n",
        "  optimizer.step()\n",
        "\n",
        "  ### Testing\n",
        "  # Training the loop to test the model on the test dataset every 20 epochs.\n",
        "  if epoch % 20 == 0:\n",
        "\n",
        "    # Putting the model in  the evaluation mode\n",
        "    my_model_0.eval()\n",
        "\n",
        "    with torch.inference_mode():\n",
        "\n",
        "      # 1. Forward pass on test data\n",
        "      test_preds = my_model_0(x_test)\n",
        "\n",
        "      # 2. Calculating the loss on test datd\n",
        "      test_loss = loss_fn(test_preds, y_test)\n",
        "\n",
        "      # Printing the result\n",
        "      print(f\"Epoch: {epoch}   | Train loss: {loss:.3f}   | Test loss: {test_loss:.3f}\")"
      ],
      "metadata": {
        "colab": {
          "base_uri": "https://localhost:8080/"
        },
        "id": "df-7tR2CxHQk",
        "outputId": "d197cd2f-f229-4dde-b562-b98b006385fc"
      },
      "execution_count": null,
      "outputs": [
        {
          "output_type": "stream",
          "name": "stdout",
          "text": [
            "Epoch: 0   | Train loss: 0.166   | Test loss: 0.457\n",
            "Epoch: 20   | Train loss: 0.124   | Test loss: 0.339\n",
            "Epoch: 40   | Train loss: 0.111   | Test loss: 0.280\n",
            "Epoch: 60   | Train loss: 0.103   | Test loss: 0.249\n",
            "Epoch: 80   | Train loss: 0.096   | Test loss: 0.227\n",
            "Epoch: 100   | Train loss: 0.089   | Test loss: 0.211\n",
            "Epoch: 120   | Train loss: 0.083   | Test loss: 0.195\n",
            "Epoch: 140   | Train loss: 0.076   | Test loss: 0.179\n",
            "Epoch: 160   | Train loss: 0.069   | Test loss: 0.162\n",
            "Epoch: 180   | Train loss: 0.062   | Test loss: 0.146\n",
            "Epoch: 200   | Train loss: 0.055   | Test loss: 0.130\n",
            "Epoch: 220   | Train loss: 0.048   | Test loss: 0.114\n",
            "Epoch: 240   | Train loss: 0.042   | Test loss: 0.097\n",
            "Epoch: 260   | Train loss: 0.035   | Test loss: 0.081\n",
            "Epoch: 280   | Train loss: 0.028   | Test loss: 0.065\n"
          ]
        }
      ]
    },
    {
      "cell_type": "markdown",
      "source": [
        "### Q4. Make Predictions with the trained model on the test data.\n",
        "\n"
      ],
      "metadata": {
        "id": "n2IXBccU2jsF"
      }
    },
    {
      "cell_type": "code",
      "source": [
        "# Putting the model in the evaluation mode\n",
        "my_model_0.eval()\n",
        "\n",
        "# Making prediction on the test data\n",
        "with torch.inference_mode():\n",
        "  y_preds = my_model_0(x_test)\n",
        "\n",
        "y_preds"
      ],
      "metadata": {
        "colab": {
          "base_uri": "https://localhost:8080/"
        },
        "id": "8sjiiIgV1osO",
        "outputId": "e1ec93d7-84e0-42a0-8229-7adace5e3faa"
      },
      "execution_count": null,
      "outputs": [
        {
          "output_type": "execute_result",
          "data": {
            "text/plain": [
              "tensor([[0.7605],\n",
              "        [0.7695],\n",
              "        [0.7784],\n",
              "        [0.7874],\n",
              "        [0.7964],\n",
              "        [0.8053],\n",
              "        [0.8143],\n",
              "        [0.8232],\n",
              "        [0.8322],\n",
              "        [0.8411],\n",
              "        [0.8501],\n",
              "        [0.8590],\n",
              "        [0.8680],\n",
              "        [0.8770],\n",
              "        [0.8859],\n",
              "        [0.8949],\n",
              "        [0.9038],\n",
              "        [0.9128],\n",
              "        [0.9217],\n",
              "        [0.9307]], device='cuda:0')"
            ]
          },
          "metadata": {},
          "execution_count": 11
        }
      ]
    },
    {
      "cell_type": "markdown",
      "source": [
        "- Visualize these predictions against the original training and testing data"
      ],
      "metadata": {
        "id": "IV_2aqlx916l"
      }
    },
    {
      "cell_type": "code",
      "source": [
        "# Visualizing the prediction\n",
        "plot_predictions(predictions=y_preds.cpu())"
      ],
      "metadata": {
        "colab": {
          "base_uri": "https://localhost:8080/",
          "height": 522
        },
        "id": "bE5Idc3q39MM",
        "outputId": "55a3eff4-f727-4e63-9ebe-738fc4f1d4ca"
      },
      "execution_count": null,
      "outputs": [
        {
          "output_type": "display_data",
          "data": {
            "text/plain": [
              "<Figure size 800x600 with 1 Axes>"
            ],
            "image/png": "[encoded data removed]"
          },
          "metadata": {}
        }
      ]
    },
    {
      "cell_type": "markdown",
      "source": [
        "### Q5. Save your tarined model's `state_dict()` to file."
      ],
      "metadata": {
        "id": "-Zezlk0c5VEr"
      }
    },
    {
      "cell_type": "code",
      "source": [
        "from pathlib import Path\n",
        "\n",
        "# Creating model directory\n",
        "MODEL_PATH = Path('models')\n",
        "MODEL_PATH.mkdir(parents=True, exist_ok=True)\n",
        "\n",
        "# Creating model save path\n",
        "MODEL_NAME = '01_PyTorch_workflow_Exercise_01.pth'\n",
        "MODEL_SAVE_PATH = MODEL_PATH / MODEL_NAME\n",
        "\n",
        "# Saving the model state_dict()\n",
        "print(f\"Saving model to: {MODEL_SAVE_PATH}\")\n",
        "torch.save(obj=my_model_0.state_dict(), f=MODEL_SAVE_PATH)"
      ],
      "metadata": {
        "colab": {
          "base_uri": "https://localhost:8080/"
        },
        "id": "viiHZc_h4_RP",
        "outputId": "1d4a969b-0624-47fa-e650-a8dd5f812283"
      },
      "execution_count": null,
      "outputs": [
        {
          "output_type": "stream",
          "name": "stdout",
          "text": [
            "Saving model to: models/01_PyTorch_workflow_Exercise_01.pth\n"
          ]
        }
      ]
    },
    {
      "cell_type": "markdown",
      "source": [
        "- Create a new instance of your model class you made in 2. and load in the `state_dict()` you just saved to it."
      ],
      "metadata": {
        "id": "vLluUgXT_nte"
      }
    },
    {
      "cell_type": "code",
      "source": [
        "# Creating new instance\n",
        "my_model_1 = LinearRegressionModel()\n",
        "\n",
        "# Loading the saved state_dict()\n",
        "my_model_1.load_state_dict(torch.load(MODEL_SAVE_PATH))\n",
        "my_model_1.to(device)\n",
        "\n",
        "print(f\"Loaded model:\\n{my_model_1}\\n\")\n",
        "print(f\"The Model is Located on: {next(my_model_1.parameters()).device} GPU\")"
      ],
      "metadata": {
        "colab": {
          "base_uri": "https://localhost:8080/"
        },
        "id": "7t15w3h77V0S",
        "outputId": "d33d38ea-a6bf-4607-cc96-1a9c4ac97e13"
      },
      "execution_count": null,
      "outputs": [
        {
          "output_type": "stream",
          "name": "stdout",
          "text": [
            "Loaded model:\n",
            "LinearRegressionModel()\n",
            "\n",
            "The Model is Located on: cuda:0 GPU\n"
          ]
        }
      ]
    },
    {
      "cell_type": "markdown",
      "source": [
        "- Perform predictions on your test data with the loaded model and confirm they match the original model predictions from 4."
      ],
      "metadata": {
        "id": "kLNwrVL4AOkq"
      }
    },
    {
      "cell_type": "code",
      "source": [
        "# Putting the model in the evaluation mode\n",
        "my_model_1.eval()\n",
        "\n",
        "# Performing the prediction\n",
        "with torch.inference_mode():\n",
        "\n",
        "  my_model_preds = my_model_1(x_test)\n",
        "\n",
        "y_preds == my_model_preds"
      ],
      "metadata": {
        "colab": {
          "base_uri": "https://localhost:8080/"
        },
        "id": "b0UqqJMFIGd0",
        "outputId": "af9be476-9ed7-442a-c100-1f469f065c7a"
      },
      "execution_count": null,
      "outputs": [
        {
          "output_type": "execute_result",
          "data": {
            "text/plain": [
              "tensor([[True],\n",
              "        [True],\n",
              "        [True],\n",
              "        [True],\n",
              "        [True],\n",
              "        [True],\n",
              "        [True],\n",
              "        [True],\n",
              "        [True],\n",
              "        [True],\n",
              "        [True],\n",
              "        [True],\n",
              "        [True],\n",
              "        [True],\n",
              "        [True],\n",
              "        [True],\n",
              "        [True],\n",
              "        [True],\n",
              "        [True],\n",
              "        [True]], device='cuda:0')"
            ]
          },
          "metadata": {},
          "execution_count": 15
        }
      ]
    },
    {
      "cell_type": "markdown",
      "source": [
        "# Exercise Level 2\n",
        "### PyTorch Workflow Advanced Assignment."
      ],
      "metadata": {
        "id": "0_upLwvOFHyQ"
      }
    },
    {
      "cell_type": "markdown",
      "source": [
        "### Q1. Loading our data.\n",
        "(a) Load the Synchronous Machine Learning Dataset as Numpy array."
      ],
      "metadata": {
        "id": "eLY_I2IYYkV8"
      }
    },
    {
      "cell_type": "code",
      "source": [
        "# Importing the neccessary libraries\n",
        "import torch\n",
        "from torch import  nn\n",
        "import numpy as np\n",
        "import pandas as pd\n",
        "import zipfile\n",
        "import matplotlib.pyplot as plt"
      ],
      "metadata": {
        "id": "jE-MyV41MRo3"
      },
      "execution_count": 4,
      "outputs": []
    },
    {
      "cell_type": "code",
      "source": [
        "# downloading the dataset\n",
        "!wget https://archive.ics.uci.edu/static/public/607/synchronous+machine+data+set.zip -O data.zip"
      ],
      "metadata": {
        "colab": {
          "base_uri": "https://localhost:8080/"
        },
        "id": "R5jgpmvmGAw3",
        "outputId": "959b2718-0e37-43f5-feed-7f183f34a1f1"
      },
      "execution_count": 5,
      "outputs": [
        {
          "output_type": "stream",
          "name": "stdout",
          "text": [
            "--2023-12-31 08:44:22--  https://archive.ics.uci.edu/static/public/607/synchronous+machine+data+set.zip\n",
            "Resolving archive.ics.uci.edu (archive.ics.uci.edu)... 128.195.10.252\n",
            "Connecting to archive.ics.uci.edu (archive.ics.uci.edu)|128.195.10.252|:443... connected.\n",
            "HTTP request sent, awaiting response... 200 OK\n",
            "Length: unspecified\n",
            "Saving to: ‘data.zip’\n",
            "\n",
            "data.zip                [ <=>                ]  14.37K  --.-KB/s    in 0.04s   \n",
            "\n",
            "2023-12-31 08:44:23 (381 KB/s) - ‘data.zip’ saved [14713]\n",
            "\n"
          ]
        }
      ]
    },
    {
      "cell_type": "code",
      "source": [
        "# unziping the data\n",
        "with zipfile.ZipFile('data.zip', 'r') as my_zip:\n",
        "  my_zip.extractall()"
      ],
      "metadata": {
        "id": "vP_icLY8Hf-o"
      },
      "execution_count": 6,
      "outputs": []
    },
    {
      "cell_type": "code",
      "source": [
        "# reading the csv data and passing to pandas\n",
        "dataset_name = \"synchronous machine.csv\"\n",
        "data = pd.read_csv(dataset_name, delimiter=';', thousands=',')\n",
        "data"
      ],
      "metadata": {
        "colab": {
          "base_uri": "https://localhost:8080/",
          "height": 424
        },
        "id": "cbyXajuOIlhZ",
        "outputId": "55deccef-dfcb-4937-936c-1e6ca2616566"
      },
      "execution_count": 7,
      "outputs": [
        {
          "output_type": "execute_result",
          "data": {
            "text/plain": [
              "     Iy  PF   e  dIf    If\n",
              "0     3  66  34  383  1563\n",
              "1     3  68  32  372  1552\n",
              "2     3   7   3   36   154\n",
              "3     3  72  28  338  1518\n",
              "4     3  74  26  317  1497\n",
              "..   ..  ..  ..  ...   ...\n",
              "552   6  91   9  142  1322\n",
              "553   6  93   7  151  1331\n",
              "554   6  95   5   16   134\n",
              "555   6  97   3   16   134\n",
              "556   6  99   1   16   134\n",
              "\n",
              "[557 rows x 5 columns]"
            ],
            "text/html": [
              "\n",
              "  <div id=\"df-e9076013-777e-4778-ab02-cf2a0be5c93f\" class=\"colab-df-container\">\n",
              "    <div>\n",
              "<style scoped>\n",
              "    .dataframe tbody tr th:only-of-type {\n",
              "        vertical-align: middle;\n",
              "    }\n",
              "\n",
              "    .dataframe tbody tr th {\n",
              "        vertical-align: top;\n",
              "    }\n",
              "\n",
              "    .dataframe thead th {\n",
              "        text-align: right;\n",
              "    }\n",
              "</style>\n",
              "<table border=\"1\" class=\"dataframe\">\n",
              "  <thead>\n",
              "    <tr style=\"text-align: right;\">\n",
              "      <th></th>\n",
              "      <th>Iy</th>\n",
              "      <th>PF</th>\n",
              "      <th>e</th>\n",
              "      <th>dIf</th>\n",
              "      <th>If</th>\n",
              "    </tr>\n",
              "  </thead>\n",
              "  <tbody>\n",
              "    <tr>\n",
              "      <th>0</th>\n",
              "      <td>3</td>\n",
              "      <td>66</td>\n",
              "      <td>34</td>\n",
              "      <td>383</td>\n",
              "      <td>1563</td>\n",
              "    </tr>\n",
              "    <tr>\n",
              "      <th>1</th>\n",
              "      <td>3</td>\n",
              "      <td>68</td>\n",
              "      <td>32</td>\n",
              "      <td>372</td>\n",
              "      <td>1552</td>\n",
              "    </tr>\n",
              "    <tr>\n",
              "      <th>2</th>\n",
              "      <td>3</td>\n",
              "      <td>7</td>\n",
              "      <td>3</td>\n",
              "      <td>36</td>\n",
              "      <td>154</td>\n",
              "    </tr>\n",
              "    <tr>\n",
              "      <th>3</th>\n",
              "      <td>3</td>\n",
              "      <td>72</td>\n",
              "      <td>28</td>\n",
              "      <td>338</td>\n",
              "      <td>1518</td>\n",
              "    </tr>\n",
              "    <tr>\n",
              "      <th>4</th>\n",
              "      <td>3</td>\n",
              "      <td>74</td>\n",
              "      <td>26</td>\n",
              "      <td>317</td>\n",
              "      <td>1497</td>\n",
              "    </tr>\n",
              "    <tr>\n",
              "      <th>...</th>\n",
              "      <td>...</td>\n",
              "      <td>...</td>\n",
              "      <td>...</td>\n",
              "      <td>...</td>\n",
              "      <td>...</td>\n",
              "    </tr>\n",
              "    <tr>\n",
              "      <th>552</th>\n",
              "      <td>6</td>\n",
              "      <td>91</td>\n",
              "      <td>9</td>\n",
              "      <td>142</td>\n",
              "      <td>1322</td>\n",
              "    </tr>\n",
              "    <tr>\n",
              "      <th>553</th>\n",
              "      <td>6</td>\n",
              "      <td>93</td>\n",
              "      <td>7</td>\n",
              "      <td>151</td>\n",
              "      <td>1331</td>\n",
              "    </tr>\n",
              "    <tr>\n",
              "      <th>554</th>\n",
              "      <td>6</td>\n",
              "      <td>95</td>\n",
              "      <td>5</td>\n",
              "      <td>16</td>\n",
              "      <td>134</td>\n",
              "    </tr>\n",
              "    <tr>\n",
              "      <th>555</th>\n",
              "      <td>6</td>\n",
              "      <td>97</td>\n",
              "      <td>3</td>\n",
              "      <td>16</td>\n",
              "      <td>134</td>\n",
              "    </tr>\n",
              "    <tr>\n",
              "      <th>556</th>\n",
              "      <td>6</td>\n",
              "      <td>99</td>\n",
              "      <td>1</td>\n",
              "      <td>16</td>\n",
              "      <td>134</td>\n",
              "    </tr>\n",
              "  </tbody>\n",
              "</table>\n",
              "<p>557 rows × 5 columns</p>\n",
              "</div>\n",
              "    <div class=\"colab-df-buttons\">\n",
              "\n",
              "  <div class=\"colab-df-container\">\n",
              "    <button class=\"colab-df-convert\" onclick=\"convertToInteractive('df-e9076013-777e-4778-ab02-cf2a0be5c93f')\"\n",
              "            title=\"Convert this dataframe to an interactive table.\"\n",
              "            style=\"display:none;\">\n",
              "\n",
              "  <svg xmlns=\"http://www.w3.org/2000/svg\" height=\"24px\" viewBox=\"0 -960 960 960\">\n",
              "    <path d=\"M120-120v-720h720v720H120Zm60-500h600v-160H180v160Zm220 220h160v-160H400v160Zm0 220h160v-160H400v160ZM180-400h160v-160H180v160Zm440 0h160v-160H620v160ZM180-180h160v-160H180v160Zm440 0h160v-160H620v160Z\"/>\n",
              "  </svg>\n",
              "    </button>\n",
              "\n",
              "  <style>\n",
              "    .colab-df-container {\n",
              "      display:flex;\n",
              "      gap: 12px;\n",
              "    }\n",
              "\n",
              "    .colab-df-convert {\n",
              "      background-color: #E8F0FE;\n",
              "      border: none;\n",
              "      border-radius: 50%;\n",
              "      cursor: pointer;\n",
              "      display: none;\n",
              "      fill: #1967D2;\n",
              "      height: 32px;\n",
              "      padding: 0 0 0 0;\n",
              "      width: 32px;\n",
              "    }\n",
              "\n",
              "    .colab-df-convert:hover {\n",
              "      background-color: #E2EBFA;\n",
              "      box-shadow: 0px 1px 2px rgba(60, 64, 67, 0.3), 0px 1px 3px 1px rgba(60, 64, 67, 0.15);\n",
              "      fill: #174EA6;\n",
              "    }\n",
              "\n",
              "    .colab-df-buttons div {\n",
              "      margin-bottom: 4px;\n",
              "    }\n",
              "\n",
              "    [theme=dark] .colab-df-convert {\n",
              "      background-color: #3B4455;\n",
              "      fill: #D2E3FC;\n",
              "    }\n",
              "\n",
              "    [theme=dark] .colab-df-convert:hover {\n",
              "      background-color: #434B5C;\n",
              "      box-shadow: 0px 1px 3px 1px rgba(0, 0, 0, 0.15);\n",
              "      filter: drop-shadow(0px 1px 2px rgba(0, 0, 0, 0.3));\n",
              "      fill: #FFFFFF;\n",
              "    }\n",
              "  </style>\n",
              "\n",
              "    <script>\n",
              "      const buttonEl =\n",
              "        document.querySelector('#df-e9076013-777e-4778-ab02-cf2a0be5c93f button.colab-df-convert');\n",
              "      buttonEl.style.display =\n",
              "        google.colab.kernel.accessAllowed ? 'block' : 'none';\n",
              "\n",
              "      async function convertToInteractive(key) {\n",
              "        const element = document.querySelector('#df-e9076013-777e-4778-ab02-cf2a0be5c93f');\n",
              "        const dataTable =\n",
              "          await google.colab.kernel.invokeFunction('convertToInteractive',\n",
              "                                                    [key], {});\n",
              "        if (!dataTable) return;\n",
              "\n",
              "        const docLinkHtml = 'Like what you see? Visit the ' +\n",
              "          '<a target=\"_blank\" href=https://colab.research.google.com/notebooks/data_table.ipynb>data table notebook</a>'\n",
              "          + ' to learn more about interactive tables.';\n",
              "        element.innerHTML = '';\n",
              "        dataTable['output_type'] = 'display_data';\n",
              "        await google.colab.output.renderOutput(dataTable, element);\n",
              "        const docLink = document.createElement('div');\n",
              "        docLink.innerHTML = docLinkHtml;\n",
              "        element.appendChild(docLink);\n",
              "      }\n",
              "    </script>\n",
              "  </div>\n",
              "\n",
              "\n",
              "<div id=\"df-1b9284b5-8d11-4644-81d5-70e5488d89b5\">\n",
              "  <button class=\"colab-df-quickchart\" onclick=\"quickchart('df-1b9284b5-8d11-4644-81d5-70e5488d89b5')\"\n",
              "            title=\"Suggest charts\"\n",
              "            style=\"display:none;\">\n",
              "\n",
              "<svg xmlns=\"http://www.w3.org/2000/svg\" height=\"24px\"viewBox=\"0 0 24 24\"\n",
              "     width=\"24px\">\n",
              "    <g>\n",
              "        <path d=\"M19 3H5c-1.1 0-2 .9-2 2v14c0 1.1.9 2 2 2h14c1.1 0 2-.9 2-2V5c0-1.1-.9-2-2-2zM9 17H7v-7h2v7zm4 0h-2V7h2v10zm4 0h-2v-4h2v4z\"/>\n",
              "    </g>\n",
              "</svg>\n",
              "  </button>\n",
              "\n",
              "<style>\n",
              "  .colab-df-quickchart {\n",
              "      --bg-color: #E8F0FE;\n",
              "      --fill-color: #1967D2;\n",
              "      --hover-bg-color: #E2EBFA;\n",
              "      --hover-fill-color: #174EA6;\n",
              "      --disabled-fill-color: #AAA;\n",
              "      --disabled-bg-color: #DDD;\n",
              "  }\n",
              "\n",
              "  [theme=dark] .colab-df-quickchart {\n",
              "      --bg-color: #3B4455;\n",
              "      --fill-color: #D2E3FC;\n",
              "      --hover-bg-color: #434B5C;\n",
              "      --hover-fill-color: #FFFFFF;\n",
              "      --disabled-bg-color: #3B4455;\n",
              "      --disabled-fill-color: #666;\n",
              "  }\n",
              "\n",
              "  .colab-df-quickchart {\n",
              "    background-color: var(--bg-color);\n",
              "    border: none;\n",
              "    border-radius: 50%;\n",
              "    cursor: pointer;\n",
              "    display: none;\n",
              "    fill: var(--fill-color);\n",
              "    height: 32px;\n",
              "    padding: 0;\n",
              "    width: 32px;\n",
              "  }\n",
              "\n",
              "  .colab-df-quickchart:hover {\n",
              "    background-color: var(--hover-bg-color);\n",
              "    box-shadow: 0 1px 2px rgba(60, 64, 67, 0.3), 0 1px 3px 1px rgba(60, 64, 67, 0.15);\n",
              "    fill: var(--button-hover-fill-color);\n",
              "  }\n",
              "\n",
              "  .colab-df-quickchart-complete:disabled,\n",
              "  .colab-df-quickchart-complete:disabled:hover {\n",
              "    background-color: var(--disabled-bg-color);\n",
              "    fill: var(--disabled-fill-color);\n",
              "    box-shadow: none;\n",
              "  }\n",
              "\n",
              "  .colab-df-spinner {\n",
              "    border: 2px solid var(--fill-color);\n",
              "    border-color: transparent;\n",
              "    border-bottom-color: var(--fill-color);\n",
              "    animation:\n",
              "      spin 1s steps(1) infinite;\n",
              "  }\n",
              "\n",
              "  @keyframes spin {\n",
              "    0% {\n",
              "      border-color: transparent;\n",
              "      border-bottom-color: var(--fill-color);\n",
              "      border-left-color: var(--fill-color);\n",
              "    }\n",
              "    20% {\n",
              "      border-color: transparent;\n",
              "      border-left-color: var(--fill-color);\n",
              "      border-top-color: var(--fill-color);\n",
              "    }\n",
              "    30% {\n",
              "      border-color: transparent;\n",
              "      border-left-color: var(--fill-color);\n",
              "      border-top-color: var(--fill-color);\n",
              "      border-right-color: var(--fill-color);\n",
              "    }\n",
              "    40% {\n",
              "      border-color: transparent;\n",
              "      border-right-color: var(--fill-color);\n",
              "      border-top-color: var(--fill-color);\n",
              "    }\n",
              "    60% {\n",
              "      border-color: transparent;\n",
              "      border-right-color: var(--fill-color);\n",
              "    }\n",
              "    80% {\n",
              "      border-color: transparent;\n",
              "      border-right-color: var(--fill-color);\n",
              "      border-bottom-color: var(--fill-color);\n",
              "    }\n",
              "    90% {\n",
              "      border-color: transparent;\n",
              "      border-bottom-color: var(--fill-color);\n",
              "    }\n",
              "  }\n",
              "</style>\n",
              "\n",
              "  <script>\n",
              "    async function quickchart(key) {\n",
              "      const quickchartButtonEl =\n",
              "        document.querySelector('#' + key + ' button');\n",
              "      quickchartButtonEl.disabled = true;  // To prevent multiple clicks.\n",
              "      quickchartButtonEl.classList.add('colab-df-spinner');\n",
              "      try {\n",
              "        const charts = await google.colab.kernel.invokeFunction(\n",
              "            'suggestCharts', [key], {});\n",
              "      } catch (error) {\n",
              "        console.error('Error during call to suggestCharts:', error);\n",
              "      }\n",
              "      quickchartButtonEl.classList.remove('colab-df-spinner');\n",
              "      quickchartButtonEl.classList.add('colab-df-quickchart-complete');\n",
              "    }\n",
              "    (() => {\n",
              "      let quickchartButtonEl =\n",
              "        document.querySelector('#df-1b9284b5-8d11-4644-81d5-70e5488d89b5 button');\n",
              "      quickchartButtonEl.style.display =\n",
              "        google.colab.kernel.accessAllowed ? 'block' : 'none';\n",
              "    })();\n",
              "  </script>\n",
              "</div>\n",
              "    </div>\n",
              "  </div>\n"
            ]
          },
          "metadata": {},
          "execution_count": 7
        }
      ]
    },
    {
      "cell_type": "code",
      "source": [
        "# getting the numpy data\n",
        "numpy_data = data.values\n",
        "numpy_data"
      ],
      "metadata": {
        "colab": {
          "base_uri": "https://localhost:8080/"
        },
        "id": "JLvOBdW7JlW3",
        "outputId": "4f15f148-16b2-44c9-8f4b-cbf7185c4e7c"
      },
      "execution_count": 8,
      "outputs": [
        {
          "output_type": "execute_result",
          "data": {
            "text/plain": [
              "array([[   3,   66,   34,  383, 1563],\n",
              "       [   3,   68,   32,  372, 1552],\n",
              "       [   3,    7,    3,   36,  154],\n",
              "       ...,\n",
              "       [   6,   95,    5,   16,  134],\n",
              "       [   6,   97,    3,   16,  134],\n",
              "       [   6,   99,    1,   16,  134]])"
            ]
          },
          "metadata": {},
          "execution_count": 8
        }
      ]
    },
    {
      "cell_type": "markdown",
      "source": [
        "(b) Converting the Numpy array to PyTorch tensor, `original data tensor`."
      ],
      "metadata": {
        "id": "HxrmA8QJZgPa"
      }
    },
    {
      "cell_type": "code",
      "source": [
        "# Let's write a few codes to make sure our data is Numpy array\n",
        "if isinstance(numpy_data, np.ndarray):\n",
        "  print('The object is NumPy Array')\n",
        "else:\n",
        "  print(\"The object you're trying to use is not a numpy array\")"
      ],
      "metadata": {
        "colab": {
          "base_uri": "https://localhost:8080/"
        },
        "id": "pW7l4mZKKXLS",
        "outputId": "56122d25-addb-4c1a-ace1-3046c89d30fc"
      },
      "execution_count": 9,
      "outputs": [
        {
          "output_type": "stream",
          "name": "stdout",
          "text": [
            "The object is NumPy Array\n"
          ]
        }
      ]
    },
    {
      "cell_type": "code",
      "source": [
        "# converting numpy array to PyTorch tensor\n",
        "original_data_tensor = torch.from_numpy(numpy_data)\n",
        "\n",
        "#changes in tensor is reflected in numpy array unless you explicitly copy it (so that's why I will copy it)\n",
        "original_data_tensor = original_data_tensor\n",
        "original_data_tensor"
      ],
      "metadata": {
        "colab": {
          "base_uri": "https://localhost:8080/"
        },
        "id": "6-jAYec_PQoE",
        "outputId": "e5fb36a6-107c-46e6-d425-9b51783c652a"
      },
      "execution_count": 10,
      "outputs": [
        {
          "output_type": "execute_result",
          "data": {
            "text/plain": [
              "tensor([[   3,   66,   34,  383, 1563],\n",
              "        [   3,   68,   32,  372, 1552],\n",
              "        [   3,    7,    3,   36,  154],\n",
              "        ...,\n",
              "        [   6,   95,    5,   16,  134],\n",
              "        [   6,   97,    3,   16,  134],\n",
              "        [   6,   99,    1,   16,  134]])"
            ]
          },
          "metadata": {},
          "execution_count": 10
        }
      ]
    },
    {
      "cell_type": "markdown",
      "source": [
        "### Q2. Art of \"Tensor Manipulation\"\n",
        "(a) Print the size of the dataset."
      ],
      "metadata": {
        "id": "FtXte_AWZtZf"
      }
    },
    {
      "cell_type": "code",
      "source": [
        "# printing the size of the data\n",
        "data_size = len(original_data_tensor)\n",
        "print(f\"The size of the dataset is: {data_size}\")"
      ],
      "metadata": {
        "id": "2yaRD8xvXvqN",
        "colab": {
          "base_uri": "https://localhost:8080/"
        },
        "outputId": "87566bef-d09b-4efe-d76e-19048f8e9ebe"
      },
      "execution_count": 11,
      "outputs": [
        {
          "output_type": "stream",
          "name": "stdout",
          "text": [
            "The size of the dataset is: 557\n"
          ]
        }
      ]
    },
    {
      "cell_type": "markdown",
      "source": [
        "(b) Create a tensor, `my_pi_tensor` of same size as `original_data_tensor` containing values of `3.142` at\n",
        "every point and placed on your GPU device. Print the first `13 rows`. Print tensor device location.\n",
        "Print tensor datatype."
      ],
      "metadata": {
        "id": "5SAOw8z6y8KA"
      }
    },
    {
      "cell_type": "code",
      "source": [
        "# There are 2 approaches you can create tensor containing values of 3.142 at every point.\n",
        "\n",
        "#1. you either create tensor of (ones values) and multiply it by 3.142, like below\n",
        "'''\n",
        "my_pi_tensor = torch.ones(size=(data_size, 5)) * 3.142\n",
        "print(f\"The firs 13 rows are:\\n{my_pi_tensor[:13]}\")\n",
        "'''\n",
        "# 2. Or used built in full() method, that will allow you to fill the desired values e.g\n",
        "my_pi_tensor = torch.full((data_size, 5), 3.142).to(device) # Placing the tensor on the GPU\n",
        "\n",
        "print(f\"The firs 13 rows are:\\n{my_pi_tensor[:10]}\") # printing the first 13 rows\n",
        "\n",
        "# printing tensor device location\n",
        "print(f\"The tensor is located on:\\ndevice {my_pi_tensor.get_device()}\")\n",
        "\n",
        "print(f\"My Pi Tensor has ({my_pi_tensor.dtype}) data type\") # printing the data type of my_pi_tensor"
      ],
      "metadata": {
        "colab": {
          "base_uri": "https://localhost:8080/"
        },
        "id": "cA0U1Tdjx5VW",
        "outputId": "8fa44a55-b85d-49f0-e1e1-f32676e059d2"
      },
      "execution_count": 12,
      "outputs": [
        {
          "output_type": "stream",
          "name": "stdout",
          "text": [
            "The firs 13 rows are:\n",
            "tensor([[3.1420, 3.1420, 3.1420, 3.1420, 3.1420],\n",
            "        [3.1420, 3.1420, 3.1420, 3.1420, 3.1420],\n",
            "        [3.1420, 3.1420, 3.1420, 3.1420, 3.1420],\n",
            "        [3.1420, 3.1420, 3.1420, 3.1420, 3.1420],\n",
            "        [3.1420, 3.1420, 3.1420, 3.1420, 3.1420],\n",
            "        [3.1420, 3.1420, 3.1420, 3.1420, 3.1420],\n",
            "        [3.1420, 3.1420, 3.1420, 3.1420, 3.1420],\n",
            "        [3.1420, 3.1420, 3.1420, 3.1420, 3.1420],\n",
            "        [3.1420, 3.1420, 3.1420, 3.1420, 3.1420],\n",
            "        [3.1420, 3.1420, 3.1420, 3.1420, 3.1420]], device='cuda:0')\n",
            "The tensor is located on:\n",
            "device 0\n",
            "My Pi Tensor has (torch.float32) data type\n"
          ]
        }
      ]
    },
    {
      "cell_type": "markdown",
      "source": [
        "(c) Print the fifth-root of the sum of all values in `my pi tensor`."
      ],
      "metadata": {
        "id": "pP1Vya5T9fkq"
      }
    },
    {
      "cell_type": "code",
      "source": [
        "# function to print the fifth-root my_pi_tensor\n",
        "def fifth_root(num, root):\n",
        "  answer = num**(1/root)\n",
        "  print(f\"The fifth-root of {sum_pi} is:\\n{answer:.5f}\")\n",
        "\n",
        "sum_pi = torch.sum(my_pi_tensor)\n",
        "fifth_root(sum_pi, 5)"
      ],
      "metadata": {
        "colab": {
          "base_uri": "https://localhost:8080/"
        },
        "id": "qygQYACz1Jhx",
        "outputId": "06a646b6-687f-4c3b-f286-bc71600fb1c3"
      },
      "execution_count": null,
      "outputs": [
        {
          "output_type": "stream",
          "name": "stdout",
          "text": [
            "The fifth-root of 8750.46875 is:\n",
            "6.14336\n"
          ]
        }
      ]
    },
    {
      "cell_type": "markdown",
      "source": [
        "(d) Create a new tensor, `my_data_tensor` using the first and last 100 rows from the `original_data_tensor`.\n",
        "Print size of my data tensor [Expect a size of 200 rows]."
      ],
      "metadata": {
        "id": "tK_NlnLYrmKF"
      }
    },
    {
      "cell_type": "code",
      "source": [
        "# Craeting a new tensor of size 200 from the original_data_tensor\n",
        "\n",
        "my_data_tensor = torch.cat([original_data_tensor[:100, :], original_data_tensor[-100:, :]])\n",
        "my_data_tensor.size()"
      ],
      "metadata": {
        "id": "fTmDDxgf5csO",
        "colab": {
          "base_uri": "https://localhost:8080/"
        },
        "outputId": "00b9267c-755a-49d9-b241-a0ea1b0c9239"
      },
      "execution_count": null,
      "outputs": [
        {
          "output_type": "execute_result",
          "data": {
            "text/plain": [
              "torch.Size([200, 5])"
            ]
          },
          "metadata": {},
          "execution_count": 13
        }
      ]
    },
    {
      "cell_type": "markdown",
      "source": [
        "(e) Create two 1-D tensors, `features` and `target` from `my_data_tensor`. The feature is dIf (Changing of excitation current of synchronous machine) column and target is If (Excitation current of synchronous machine)"
      ],
      "metadata": {
        "id": "ftnUwxdiyGMl"
      }
    },
    {
      "cell_type": "code",
      "source": [
        "# creating a two 1-D tensors\n",
        "x_1 = my_data_tensor[:, 3].clone().detach() # I used this format to preserve all the properties of the original tensor\n",
        "y_1 = my_data_tensor[:, 4].clone().detach()\n",
        "\n",
        "# checking their dimensions\n",
        "print(f\"Dimension of feature tensor is: ({x_1.ndim})\")\n",
        "print(f\"Dimension of target tensor is: ({y_1.ndim})\")"
      ],
      "metadata": {
        "colab": {
          "base_uri": "https://localhost:8080/"
        },
        "id": "2ObILl6ys6FT",
        "outputId": "59edbb9e-477e-4a53-f148-216402ae8103"
      },
      "execution_count": null,
      "outputs": [
        {
          "output_type": "stream",
          "name": "stdout",
          "text": [
            "Dimension of feature tensor is: (1)\n",
            "Dimension of target tensor is: (1)\n"
          ]
        }
      ]
    },
    {
      "cell_type": "markdown",
      "source": [
        "(f) Split your data into training and test data of ratio 75:25 respectively."
      ],
      "metadata": {
        "id": "RqwInMyB7-UA"
      }
    },
    {
      "cell_type": "code",
      "source": [
        "# splitting the data to 75:25 ratio\n",
        "train_test_split = int((len(x_1) * 0.75))\n",
        "\n",
        "# training data\n",
        "x_train_1 = x_1[:train_test_split]\n",
        "y_train_1 = y_1[:train_test_split]\n",
        "\n",
        "# testing data\n",
        "x_test_1 = x_1[train_test_split:]\n",
        "y_test_1 = y_1[train_test_split:]\n",
        "\n",
        "len(x_train_1), len(y_train_1), len(x_test_1), len(y_test_1)"
      ],
      "metadata": {
        "colab": {
          "base_uri": "https://localhost:8080/"
        },
        "id": "CIPZ_zpb02gU",
        "outputId": "ed11496f-1740-4ea1-c103-ba4ae835310d"
      },
      "execution_count": null,
      "outputs": [
        {
          "output_type": "execute_result",
          "data": {
            "text/plain": [
              "(150, 150, 50, 50)"
            ]
          },
          "metadata": {},
          "execution_count": 15
        }
      ]
    },
    {
      "cell_type": "markdown",
      "source": [
        "## Q3. Define your Linear model structure. You can use existing model."
      ],
      "metadata": {
        "id": "wYIueJuA-oPy"
      }
    },
    {
      "cell_type": "code",
      "source": [
        "# subclassing nn.Module\n",
        "class LinearRegressionModelV3(nn.Module):\n",
        "  def __init__(self):\n",
        "    super().__init__()\n",
        "\n",
        "    # I will use (nn.Linear()) instead of (nn.parameters()) to create  the model parameters\n",
        "    #self.linear_layer = nn.Linear(in_features=1, out_features=1)\n",
        "    self.weights = nn.Parameter(torch.randn(1, dtype=torch.float), requires_grad=True)\n",
        "\n",
        "    self.bias = nn.Parameter(torch.randn(1, dtype=torch.float), requires_grad=True)\n",
        "\n",
        "    # Defining forward computation\n",
        "  def forward(self, x_1: torch.Tensor) -> torch.Tensor:\n",
        "    #return self.linear_layer(x_1)\n",
        "    return self.weights * x_1 + self.bias\n",
        "\n",
        "torch.manual_seed(42)\n",
        "my_model_2 = LinearRegressionModelV3()\n",
        "my_model_2, my_model_2.state_dict()"
      ],
      "metadata": {
        "colab": {
          "base_uri": "https://localhost:8080/"
        },
        "id": "9dccQA9JBlOK",
        "outputId": "8fa08c80-99a5-4aa7-a97b-42381dfc1df2"
      },
      "execution_count": 4,
      "outputs": [
        {
          "output_type": "execute_result",
          "data": {
            "text/plain": [
              "(LinearRegressionModelV3(),\n",
              " OrderedDict([('weights', tensor([0.3367])), ('bias', tensor([0.1288]))]))"
            ]
          },
          "metadata": {},
          "execution_count": 4
        }
      ]
    },
    {
      "cell_type": "code",
      "source": [
        "# Checking model device\n",
        "next(my_model_2.parameters()).device"
      ],
      "metadata": {
        "colab": {
          "base_uri": "https://localhost:8080/"
        },
        "id": "oToNV6TPJCs_",
        "outputId": "47186af3-873e-4084-c6c5-dc7e4cf30b90"
      },
      "execution_count": 5,
      "outputs": [
        {
          "output_type": "execute_result",
          "data": {
            "text/plain": [
              "device(type='cpu')"
            ]
          },
          "metadata": {},
          "execution_count": 5
        }
      ]
    },
    {
      "cell_type": "code",
      "source": [
        "# Let's move it to GPU\n",
        "my_model_2.to(device)\n",
        "next(my_model_2.parameters()).device"
      ],
      "metadata": {
        "colab": {
          "base_uri": "https://localhost:8080/"
        },
        "id": "ALs8FPowKK7L",
        "outputId": "4af7de2e-34c1-49d8-edac-20719595afbc"
      },
      "execution_count": 6,
      "outputs": [
        {
          "output_type": "execute_result",
          "data": {
            "text/plain": [
              "device(type='cuda', index=0)"
            ]
          },
          "metadata": {},
          "execution_count": 6
        }
      ]
    },
    {
      "cell_type": "code",
      "source": [
        "# creating loss function\n",
        "loss_fn_1 = nn.L1Loss()\n",
        "\n",
        "# Creating optimizer and choosing the learning rate to be 0.01\n",
        "optimizer_1 = torch.optim.SGD(params=my_model_2.parameters(), lr=0.001)\n"
      ],
      "metadata": {
        "id": "i_0nhgZdKjU1"
      },
      "execution_count": null,
      "outputs": []
    },
    {
      "cell_type": "markdown",
      "source": [
        "### Q4. Train model for any number of epochs. Generate 1 plot of Loss against Epoch during model training and testing. Choose any set of hyperparameters for model training.\n",
        "\n",
        "- Training loop"
      ],
      "metadata": {
        "id": "udAwPSiRMFFX"
      }
    },
    {
      "cell_type": "code",
      "source": [
        "torch.manual_seed(42)\n",
        "\n",
        "# I set number of epochs to 800000\n",
        "epochs = 800000\n",
        "\n",
        "# Creating an empty lists to keep track of our loss and the number of epochs\n",
        "train_loss_values = []\n",
        "test_loss_values = []\n",
        "epoch_count = []\n",
        "\n",
        "# Setting the data on the GPU\n",
        "x_train_1 = x_train_1.to(device)\n",
        "y_train_1 = y_train_1.to(device)\n",
        "x_test_1 = x_test_1.to(device)\n",
        "y_test_1 = y_test_1.to(device)\n",
        "\n",
        "for epoch in range(epochs):\n",
        "  ### Training\n",
        "  my_model_2.train()\n",
        "\n",
        "  # 1. Forward pass\n",
        "  y_preds_1 = my_model_2(x_train_1)\n",
        "\n",
        "  # 2. Calculating loss\n",
        "  loss_1 = loss_fn_1(y_preds_1, y_train_1)\n",
        "\n",
        "  # 3. Zero gradient optomizer\n",
        "  optimizer_1.zero_grad()\n",
        "\n",
        "  # 4. Loss backward\n",
        "  loss_1.backward()\n",
        "\n",
        "  # 5. Stepping the optimizer\n",
        "  optimizer_1.step()\n",
        "\n",
        "  ### Testing\n",
        "  my_model_2.eval() # Putting the model in the evaluation mode\n",
        "\n",
        "  # 1. Forward pass\n",
        "  with torch.inference_mode():\n",
        "    test_preds_1 = my_model_2(x_test_1)\n",
        "\n",
        "    # 2. Calculating the loss\n",
        "    test_loss_1 = loss_fn_1(test_preds_1, y_test_1)\n",
        "\n",
        "  if epoch % 200000 == 0:\n",
        "    epoch_count.append(epoch)\n",
        "    train_loss_values.append(loss_1.detach().numpy())\n",
        "    test_loss_values.append(test_loss_1.detach().numpy())\n",
        "    print(f\"Epoch: {epoch}  | Train Loss: {loss_1}  | Test Loss: {test_loss_1}\")\n"
      ],
      "metadata": {
        "colab": {
          "base_uri": "https://localhost:8080/"
        },
        "id": "C-5I0-KdMDf-",
        "outputId": "fc9c46fd-edc1-4bc0-d8e5-29d7fe975d19"
      },
      "execution_count": null,
      "outputs": [
        {
          "output_type": "stream",
          "name": "stdout",
          "text": [
            "Epoch: 0  | Train Loss: 1233.6229248046875  | Test Loss: 1228.1744384765625\n",
            "Epoch: 200000  | Train Loss: 399.5265197753906  | Test Loss: 467.5951843261719\n",
            "Epoch: 400000  | Train Loss: 385.8707580566406  | Test Loss: 450.4984436035156\n",
            "Epoch: 600000  | Train Loss: 374.3299560546875  | Test Loss: 435.75390625\n"
          ]
        }
      ]
    },
    {
      "cell_type": "markdown",
      "source": [
        "- Generating plot of Loss against Epoch during model training and testing."
      ],
      "metadata": {
        "id": "bA2QcCprFgVT"
      }
    },
    {
      "cell_type": "code",
      "source": [
        "# Plotting training loss against epoch\n",
        "plt.plot(epoch_count, train_loss_values, label='Train Loss')\n",
        "\n",
        "# Plotting testing loss against epoch\n",
        "plt.plot(epoch_count, test_loss_values, label='Test Loss')\n",
        "plt.title('Traninig and Testing Loss Curves')\n",
        "plt.ylabel('Loss')\n",
        "plt.xlabel('Epochs')\n",
        "\n",
        "plt.legend();"
      ],
      "metadata": {
        "colab": {
          "base_uri": "https://localhost:8080/",
          "height": 472
        },
        "id": "mV_o4CcZ6XpU",
        "outputId": "6aea4bdc-2837-4fab-9419-8190b89b9a6f"
      },
      "execution_count": null,
      "outputs": [
        {
          "output_type": "display_data",
          "data": {
            "text/plain": [
              "<Figure size 640x480 with 1 Axes>"
            ],
            "image/png": "[encoded data removed]"
          },
          "metadata": {}
        }
      ]
    },
    {
      "cell_type": "markdown",
      "source": [
        "Huhh! That feeling of joy 🤩 when finally see the loss is going down after testing your model with different number of epochs and learning rate  "
      ],
      "metadata": {
        "id": "CU3L12xAHfF5"
      }
    },
    {
      "cell_type": "code",
      "source": [
        "# Checking the model state_dict()\n",
        "my_model_2.state_dict()"
      ],
      "metadata": {
        "id": "mVQDWsjcYjlR",
        "colab": {
          "base_uri": "https://localhost:8080/"
        },
        "outputId": "28fea497-c57c-4bb1-d577-637cd9d6d2f3"
      },
      "execution_count": null,
      "outputs": [
        {
          "output_type": "execute_result",
          "data": {
            "text/plain": [
              "OrderedDict([('weights', tensor([3.4910])), ('bias', tensor([219.8185]))])"
            ]
          },
          "metadata": {},
          "execution_count": 107
        }
      ]
    },
    {
      "cell_type": "code",
      "source": [
        "# Putting model in the evaluation mode\n",
        "my_model_2.eval()\n",
        "\n",
        "# Making prediction\n",
        "with torch.inference_mode():\n",
        "  y_preds_1 = my_model_2(x_test_1)\n",
        "y_preds_1"
      ],
      "metadata": {
        "colab": {
          "base_uri": "https://localhost:8080/"
        },
        "id": "6RnCplpN1qMV",
        "outputId": "2fdf2658-84f0-41b2-ed64-a6d1fdd18f57"
      },
      "execution_count": null,
      "outputs": [
        {
          "output_type": "execute_result",
          "data": {
            "text/plain": [
              "tensor([2495.9722, 2600.7031, 2192.2524, 2227.1626, 1808.2388, 1864.0953,\n",
              "        1919.9518, 1431.2072, 1459.1354,  938.9714,  966.8997,  980.8638,\n",
              "         980.8638,  980.8638, 2876.4949, 2667.0330, 2743.8357, 2387.7502,\n",
              "        2457.5708, 2544.8467, 2143.3779,  415.3163, 1745.4001, 1804.7477,\n",
              "        1850.1311, 1361.3865, 1385.8237,  865.6597,  890.0969,  879.6238,\n",
              "         879.6238,  879.6238, 2904.4231, 2600.7031, 2708.9253, 2290.0012,\n",
              "        2391.2412, 2492.4812, 2052.6111, 2097.9944, 1619.7229, 1700.0167,\n",
              "        1783.8015,  321.0584, 1270.6196,  715.5452,  746.9645,  275.6750,\n",
              "         275.6750,  275.6750])"
            ]
          },
          "metadata": {},
          "execution_count": 108
        }
      ]
    },
    {
      "cell_type": "markdown",
      "source": [
        "### Q5. Briefly comment on your results. What could be done to make the model or prediction better? (< 60 words)\n",
        "\n"
      ],
      "metadata": {
        "id": "xeEQxgVpHNZ1"
      }
    },
    {
      "cell_type": "markdown",
      "source": [
        "#### Comment:\n",
        "*I think my model result is good, looking at how we extract the data (first & last 100 rows) and after trainig and everything the loss is very low, i'd say my prediction did very well. But may be if had increase the number of epochs and change the learning rate one more time, the model would have been better.*"
      ],
      "metadata": {
        "id": "yOILt3iNHcRy"
      }
    }
  ]
}