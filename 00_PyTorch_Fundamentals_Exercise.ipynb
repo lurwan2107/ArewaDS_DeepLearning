{
  "nbformat": 4,
  "nbformat_minor": 0,
  "metadata": {
    "colab": {
      "provenance": [],
      "gpuType": "T4",
      "authorship_tag": "ABX9TyMQ+uJgjWQc4cNXkbwMgA40",
      "include_colab_link": true
    },
    "kernelspec": {
      "name": "python3",
      "display_name": "Python 3"
    },
    "language_info": {
      "name": "python"
    },
    "accelerator": "GPU"
  },
  "cells": [
    {
      "cell_type": "markdown",
      "metadata": {
        "id": "view-in-github",
        "colab_type": "text"
      },
      "source": [
        "<a href=\"https://colab.research.google.com/github/lurwan2107/ArewaDS_DeepLearning/blob/main/00_PyTorch_Fundamentals_Exercise.ipynb\" target=\"_parent\"><img src=\"https://colab.research.google.com/assets/colab-badge.svg\" alt=\"Open In Colab\"/></a>"
      ]
    },
    {
      "cell_type": "markdown",
      "source": [
        "## 00. PyTorch Fundamentals Exercises\n",
        "### 1. Documentation Reading\n",
        "A big part of deep learning (and learning to code in general) is getting familiar with the documentation of a certain framework you're using. We'll be using the PyTorch documentation a lot throughout the rest of this course. So I'd recommend spending 10-minutes reading the following (it's okay if you don't get some things for now, the focus is not yet full understanding, it's awareness):\n",
        "\n",
        "- The documentation on torch.Tensor.\n",
        "- The documentation on torch.cuda."
      ],
      "metadata": {
        "id": "LsPqXXdVnaPl"
      }
    },
    {
      "cell_type": "code",
      "execution_count": 3,
      "metadata": {
        "id": "QL7T8XrADYbY"
      },
      "outputs": [],
      "source": [
        "# No code solution (reading)"
      ]
    },
    {
      "cell_type": "markdown",
      "source": [
        "### 2. Create a random tensor with shape (7, 7)."
      ],
      "metadata": {
        "id": "Av205fbxo6Kf"
      }
    },
    {
      "cell_type": "code",
      "source": [
        "# Import torch\n",
        "import torch\n",
        "\n",
        "# Creating a random tensor\n",
        "rand_tensor_A = torch.rand(7, 7)\n",
        "rand_tensor_A, rand_tensor_A.ndim, rand_tensor_A.type # Checking the dimension and the data type."
      ],
      "metadata": {
        "colab": {
          "base_uri": "https://localhost:8080/"
        },
        "id": "xaU0mGzEo0gE",
        "outputId": "9a74acf4-3778-4f0b-91f1-ab6d9f11fd2b"
      },
      "execution_count": 7,
      "outputs": [
        {
          "output_type": "execute_result",
          "data": {
            "text/plain": [
              "(tensor([[0.2213, 0.1957, 0.6985, 0.9441, 0.2519, 0.9116, 0.6153],\n",
              "         [0.2786, 0.5293, 0.2351, 0.0849, 0.5892, 0.9729, 0.3898],\n",
              "         [0.0866, 0.0915, 0.9247, 0.3391, 0.4261, 0.8808, 0.8685],\n",
              "         [0.4399, 0.6457, 0.3444, 0.5554, 0.0431, 0.5776, 0.4581],\n",
              "         [0.9803, 0.7633, 0.4454, 0.2034, 0.5389, 0.1093, 0.0378],\n",
              "         [0.4078, 0.5599, 0.6854, 0.4672, 0.6415, 0.0657, 0.0230],\n",
              "         [0.5394, 0.7635, 0.3247, 0.3193, 0.8657, 0.8819, 0.4989]]),\n",
              " 2,\n",
              " <function Tensor.type>)"
            ]
          },
          "metadata": {},
          "execution_count": 7
        }
      ]
    },
    {
      "cell_type": "markdown",
      "source": [
        "### 3. Perform a matrix multiplication on the tensor from 2 with another random tensor with shape (1, 7)"
      ],
      "metadata": {
        "id": "fYNpfo9JsWBO"
      }
    },
    {
      "cell_type": "code",
      "source": [
        "# Creating another random tensor\n",
        "rand_tensor_B = torch.rand(1, 7)\n",
        "# Performing matrix multiplication\n",
        "mat_mult_A = torch.matmul(rand_tensor_A, rand_tensor_B.T)\n",
        "mat_mult_A"
      ],
      "metadata": {
        "colab": {
          "base_uri": "https://localhost:8080/"
        },
        "id": "YvuYXsdopiej",
        "outputId": "914ac781-5f81-435c-e71c-f1bb1470c827"
      },
      "execution_count": 8,
      "outputs": [
        {
          "output_type": "execute_result",
          "data": {
            "text/plain": [
              "tensor([[1.9270],\n",
              "        [1.8546],\n",
              "        [1.9697],\n",
              "        [1.9384],\n",
              "        [2.0530],\n",
              "        [1.4660],\n",
              "        [2.4042]])"
            ]
          },
          "metadata": {},
          "execution_count": 8
        }
      ]
    },
    {
      "cell_type": "markdown",
      "source": [
        "### 4. Set the random seed to 0 and do 2 & 3 over again."
      ],
      "metadata": {
        "id": "tIeRqAAovQXU"
      }
    },
    {
      "cell_type": "code",
      "source": [
        "torch.manual_seed(0) # Setting manual seed\n",
        "\n",
        "# Creating two random tensors\n",
        "rand_tensor_A = torch.rand(7, 7)\n",
        "rand_tensor_B = torch.rand(1, 7)\n",
        "\n",
        "# performing matrix multiplication for the 2 tensors\n",
        "mat_mult_B = torch.matmul(rand_tensor_A, rand_tensor_B.T)\n",
        "mat_mult_B, mat_mult_B.shape"
      ],
      "metadata": {
        "colab": {
          "base_uri": "https://localhost:8080/"
        },
        "id": "thIT_J4tvMhK",
        "outputId": "04fc0727-931d-4951-fd52-b42be4cfae25"
      },
      "execution_count": 25,
      "outputs": [
        {
          "output_type": "execute_result",
          "data": {
            "text/plain": [
              "(tensor([[1.8542],\n",
              "         [1.9611],\n",
              "         [2.2884],\n",
              "         [3.0481],\n",
              "         [1.7067],\n",
              "         [2.5290],\n",
              "         [1.7989]]),\n",
              " torch.Size([7, 1]))"
            ]
          },
          "metadata": {},
          "execution_count": 25
        }
      ]
    },
    {
      "cell_type": "markdown",
      "source": [
        "### 5. Speaking of random seeds, we saw how to set it with torch.manual_seed() but is there a GPU equivalent?\n",
        "- If there is, set the GPU random seed to 1234."
      ],
      "metadata": {
        "id": "IQA7n1wQ2wJg"
      }
    },
    {
      "cell_type": "code",
      "source": [
        "# Setting random seed on the GPU\n",
        "torch.cuda.manual_seed(1234)"
      ],
      "metadata": {
        "id": "6PYU8lUI8Vkn"
      },
      "execution_count": 26,
      "outputs": []
    },
    {
      "cell_type": "markdown",
      "source": [
        "Create two random tensors of shape `(2, 3)` and send them both to the GPU (you'll need access to a GPU for this). Set torch.manual_seed(1234) when creating the tensors (this doesn't have to be the GPU random seed)."
      ],
      "metadata": {
        "id": "id9mmCQ1Ct-o"
      }
    },
    {
      "cell_type": "code",
      "source": [
        "# Setting random seed on the GPU\n",
        "torch.cuda.manual_seed(1234)\n",
        "\n",
        "# Checking for access to the GPU\n",
        "device = 'cuda' if torch.cuda.is_available() else 'cpu'\n",
        "\n",
        "# Creating two random tensors on the GPU\n",
        "tensor_show_on_gpu_a = torch.rand(2, 3).to(device)\n",
        "tensor_show_on_gpu_b = torch.rand(2, 3).to(device)\n",
        "\n",
        "tensor_show_on_gpu_a, tensor_show_on_gpu_b"
      ],
      "metadata": {
        "colab": {
          "base_uri": "https://localhost:8080/"
        },
        "id": "oc68V4LJC_uk",
        "outputId": "b7a768b3-6698-472c-dcd0-874670e638ec"
      },
      "execution_count": 27,
      "outputs": [
        {
          "output_type": "execute_result",
          "data": {
            "text/plain": [
              "(tensor([[0.5932, 0.1123, 0.1535],\n",
              "         [0.2417, 0.7262, 0.7011]], device='cuda:0'),\n",
              " tensor([[0.2038, 0.6511, 0.7745],\n",
              "         [0.4369, 0.5191, 0.6159]], device='cuda:0'))"
            ]
          },
          "metadata": {},
          "execution_count": 27
        }
      ]
    },
    {
      "cell_type": "markdown",
      "source": [
        "### 7. Perform a matrix multiplication on the tensors you created in 6 (again, you may have to adjust the shapes of one of the tensors)."
      ],
      "metadata": {
        "id": "0wAyNdSLHUMN"
      }
    },
    {
      "cell_type": "code",
      "source": [
        "# Performing matmul on the tensors\n",
        "mat_mult_C = torch.matmul(tensor_show_on_gpu_a, tensor_show_on_gpu_b.T)\n",
        "mat_mult_C, mat_mult_C.shape"
      ],
      "metadata": {
        "colab": {
          "base_uri": "https://localhost:8080/"
        },
        "id": "n6eEu2t6HjHP",
        "outputId": "460d4097-39f6-4eab-d486-3d8244ce6ce7"
      },
      "execution_count": 28,
      "outputs": [
        {
          "output_type": "execute_result",
          "data": {
            "text/plain": [
              "(tensor([[0.3129, 0.4120],\n",
              "         [1.0651, 0.9143]], device='cuda:0'),\n",
              " torch.Size([2, 2]))"
            ]
          },
          "metadata": {},
          "execution_count": 28
        }
      ]
    },
    {
      "cell_type": "markdown",
      "source": [
        "### 8. Find the maximum and minimum values of the output of 7."
      ],
      "metadata": {
        "id": "NQAL6qXGJXBl"
      }
    },
    {
      "cell_type": "code",
      "source": [
        "# Finding the maximum\n",
        "print(f\"Maximum: {torch.max(mat_mult_C)}\")\n",
        "# Finding the minimum\n",
        "print(f\"Minimum: {torch.min(mat_mult_C)}\")"
      ],
      "metadata": {
        "colab": {
          "base_uri": "https://localhost:8080/"
        },
        "id": "YjAb7DGKJady",
        "outputId": "c4c3b511-f7ef-49ca-9c6f-196ce798f3c7"
      },
      "execution_count": 29,
      "outputs": [
        {
          "output_type": "stream",
          "name": "stdout",
          "text": [
            "Maximum: 1.0650615692138672\n",
            "Minimum: 0.31289684772491455\n"
          ]
        }
      ]
    },
    {
      "cell_type": "markdown",
      "source": [
        "### 9. Find the maximum and minimum index values of the output of 7."
      ],
      "metadata": {
        "id": "Q3WeTtz6JbIj"
      }
    },
    {
      "cell_type": "code",
      "source": [
        "# Finding arg max\n",
        "print(f\"The maximum value is at index: {mat_mult_C.argmax()}\")\n",
        "# Finding arg min\n",
        "print(f\"The minimum value is at index: {mat_mult_C.argmin()}\")"
      ],
      "metadata": {
        "colab": {
          "base_uri": "https://localhost:8080/"
        },
        "id": "oX_oWac0Jkp4",
        "outputId": "0dc30878-8d24-4707-a990-77badbc8ecd6"
      },
      "execution_count": 30,
      "outputs": [
        {
          "output_type": "stream",
          "name": "stdout",
          "text": [
            "The maximum value is at index: 2\n",
            "The minimum value is at index: 0\n"
          ]
        }
      ]
    },
    {
      "cell_type": "markdown",
      "source": [
        "### 10. Make a random tensor with shape (1, 1, 1, 10) and then create a new tensor with all the 1 dimensions removed to be left with a tensor of shape (10). Set the seed to 7 when you create it and print out the first tensor and it's shape as well as the second tensor and it's shape."
      ],
      "metadata": {
        "id": "cs3QRKFCLdRQ"
      }
    },
    {
      "cell_type": "code",
      "source": [
        "# Setting the seed\n",
        "torch.manual_seed(7)\n",
        "\n",
        "# Creating random tensor\n",
        "tensor_rand = torch.rand(size=(1, 1, 1, 10))\n",
        "\n",
        "# Remove single dimensions\n",
        "squeezed_tensor = tensor_rand.squeeze()\n",
        "\n",
        "# Print out tensors and their shapes\n",
        "print(f\"Original Tensor:\\n{tensor_rand}\\n{tensor_rand.shape}\")\n",
        "print(f\"\\nModified Tensor:\\n{squeezed_tensor}\\n{squeezed_tensor.shape}\")\n"
      ],
      "metadata": {
        "colab": {
          "base_uri": "https://localhost:8080/"
        },
        "id": "3ibmINBcLv-g",
        "outputId": "ab8d06eb-844d-400e-cc2e-4d62c35e602c"
      },
      "execution_count": 36,
      "outputs": [
        {
          "output_type": "stream",
          "name": "stdout",
          "text": [
            "Original Tensor:\n",
            "tensor([[[[0.5349, 0.1988, 0.6592, 0.6569, 0.2328, 0.4251, 0.2071, 0.6297,\n",
            "           0.3653, 0.8513]]]])\n",
            "torch.Size([1, 1, 1, 10])\n",
            "\n",
            "Modified Tensor:\n",
            "tensor([0.5349, 0.1988, 0.6592, 0.6569, 0.2328, 0.4251, 0.2071, 0.6297, 0.3653,\n",
            "        0.8513])\n",
            "torch.Size([10])\n"
          ]
        }
      ]
    }
  ]
}